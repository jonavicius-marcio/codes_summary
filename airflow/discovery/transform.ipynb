{
 "cells": [
  {
   "attachments": {},
   "cell_type": "markdown",
   "metadata": {},
   "source": [
    "# Transformation"
   ]
  },
  {
   "cell_type": "code",
   "execution_count": 7,
   "metadata": {},
   "outputs": [],
   "source": [
    "import pandas as pd\n",
    "import json\n",
    "from pathlib import Path\n",
    "import os"
   ]
  },
  {
   "cell_type": "code",
   "execution_count": 16,
   "metadata": {},
   "outputs": [],
   "source": [
    "DIR_READ = 'data/extraction/' \n",
    "DIR_SAVE = 'data/transform/' \n",
    "\n",
    "main_path = Path().absolute().parent\n",
    "\n",
    "base_path = os.path.join(main_path, DIR_READ)\n",
    "save_path = os.path.join(main_path, DIR_SAVE)"
   ]
  },
  {
   "cell_type": "code",
   "execution_count": 14,
   "metadata": {},
   "outputs": [],
   "source": [
    "def _read(file_name):\n",
    "    df = pd.read_json(f\"{base_path}{file_name}.json\", orient ='index').transpose()\n",
    "    return df"
   ]
  },
  {
   "cell_type": "code",
   "execution_count": 15,
   "metadata": {},
   "outputs": [],
   "source": [
    "d_1 = _read('d_1')\n",
    "d_2 = _read('d_2')\n",
    "d_3 = _read('d_3')"
   ]
  },
  {
   "cell_type": "code",
   "execution_count": 17,
   "metadata": {},
   "outputs": [],
   "source": [
    "def transform():\n",
    "    d_1 = _read('d_1')\n",
    "    d_2 = _read('d_2')\n",
    "    d_3 = _read('d_3')\n",
    "\n",
    "    df = pd.concat([d_1, d_1, d_2])\n",
    "\n",
    "    df['bmi']= df['mass']/ (df['height']**2)\n",
    "\n",
    "    df.to_csv(f'{save_path}/people_data.csv')"
   ]
  },
  {
   "cell_type": "code",
   "execution_count": 18,
   "metadata": {},
   "outputs": [],
   "source": [
    "if __name__ == '__main__':\n",
    "    transform()"
   ]
  },
  {
   "cell_type": "code",
   "execution_count": null,
   "metadata": {},
   "outputs": [],
   "source": []
  },
  {
   "cell_type": "code",
   "execution_count": null,
   "metadata": {},
   "outputs": [],
   "source": []
  }
 ],
 "metadata": {
  "kernelspec": {
   "display_name": "Python 3",
   "language": "python",
   "name": "python3"
  },
  "language_info": {
   "codemirror_mode": {
    "name": "ipython",
    "version": 3
   },
   "file_extension": ".py",
   "mimetype": "text/x-python",
   "name": "python",
   "nbconvert_exporter": "python",
   "pygments_lexer": "ipython3",
   "version": "3.9.13"
  }
 },
 "nbformat": 4,
 "nbformat_minor": 4
}
